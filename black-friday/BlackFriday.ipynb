{
 "cells": [
  {
   "cell_type": "code",
   "execution_count": 169,
   "metadata": {},
   "outputs": [],
   "source": [
    "import numpy as np\n",
    "import pandas as pd\n",
    "import seaborn as sns\n",
    "from sklearn.feature_extraction.text import TfidfVectorizer\n",
    "from sklearn.feature_extraction import DictVectorizer\n",
    "from sklearn.model_selection import train_test_split\n",
    "from sklearn.linear_model import Ridge\n",
    "from sklearn.metrics import mean_squared_error\n",
    "from sklearn.model_selection import GridSearchCV,cross_val_score\n",
    "from sklearn import preprocessing\n",
    "from sklearn.tree import DecisionTreeClassifier, export_graphviz\n",
    "from sklearn.ensemble import RandomForestClassifier\n",
    "from sklearn.metrics import accuracy_score\n",
    "import scipy\n",
    "\n",
    "from sklearn.metrics.regression import mean_squared_error\n",
    "from sklearn.preprocessing import StandardScaler\n",
    "from sklearn.model_selection import GridSearchCV\n",
    "from sklearn.model_selection import cross_val_score, train_test_split\n",
    "from sklearn.linear_model import LinearRegression, LassoCV, Lasso\n",
    "from sklearn.ensemble import RandomForestRegressor\n",
    "\n",
    "%matplotlib inline\n",
    "from matplotlib import pyplot as plt"
   ]
  },
  {
   "cell_type": "code",
   "execution_count": 120,
   "metadata": {},
   "outputs": [],
   "source": [
    "data = pd.read_csv('BlackFriday.csv')\n"
   ]
  },
  {
   "cell_type": "code",
   "execution_count": 121,
   "metadata": {},
   "outputs": [
    {
     "data": {
      "text/html": [
       "<div>\n",
       "<style scoped>\n",
       "    .dataframe tbody tr th:only-of-type {\n",
       "        vertical-align: middle;\n",
       "    }\n",
       "\n",
       "    .dataframe tbody tr th {\n",
       "        vertical-align: top;\n",
       "    }\n",
       "\n",
       "    .dataframe thead th {\n",
       "        text-align: right;\n",
       "    }\n",
       "</style>\n",
       "<table border=\"1\" class=\"dataframe\">\n",
       "  <thead>\n",
       "    <tr style=\"text-align: right;\">\n",
       "      <th></th>\n",
       "      <th>User_ID</th>\n",
       "      <th>Product_ID</th>\n",
       "      <th>Gender</th>\n",
       "      <th>Age</th>\n",
       "      <th>Occupation</th>\n",
       "      <th>City_Category</th>\n",
       "      <th>Stay_In_Current_City_Years</th>\n",
       "      <th>Marital_Status</th>\n",
       "      <th>Product_Category_1</th>\n",
       "      <th>Product_Category_2</th>\n",
       "      <th>Product_Category_3</th>\n",
       "      <th>Purchase</th>\n",
       "    </tr>\n",
       "  </thead>\n",
       "  <tbody>\n",
       "    <tr>\n",
       "      <th>0</th>\n",
       "      <td>1000001</td>\n",
       "      <td>P00069042</td>\n",
       "      <td>F</td>\n",
       "      <td>0-17</td>\n",
       "      <td>10</td>\n",
       "      <td>A</td>\n",
       "      <td>2</td>\n",
       "      <td>0</td>\n",
       "      <td>3</td>\n",
       "      <td>NaN</td>\n",
       "      <td>NaN</td>\n",
       "      <td>8370</td>\n",
       "    </tr>\n",
       "    <tr>\n",
       "      <th>1</th>\n",
       "      <td>1000001</td>\n",
       "      <td>P00248942</td>\n",
       "      <td>F</td>\n",
       "      <td>0-17</td>\n",
       "      <td>10</td>\n",
       "      <td>A</td>\n",
       "      <td>2</td>\n",
       "      <td>0</td>\n",
       "      <td>1</td>\n",
       "      <td>6.0</td>\n",
       "      <td>14.0</td>\n",
       "      <td>15200</td>\n",
       "    </tr>\n",
       "    <tr>\n",
       "      <th>2</th>\n",
       "      <td>1000001</td>\n",
       "      <td>P00087842</td>\n",
       "      <td>F</td>\n",
       "      <td>0-17</td>\n",
       "      <td>10</td>\n",
       "      <td>A</td>\n",
       "      <td>2</td>\n",
       "      <td>0</td>\n",
       "      <td>12</td>\n",
       "      <td>NaN</td>\n",
       "      <td>NaN</td>\n",
       "      <td>1422</td>\n",
       "    </tr>\n",
       "    <tr>\n",
       "      <th>3</th>\n",
       "      <td>1000001</td>\n",
       "      <td>P00085442</td>\n",
       "      <td>F</td>\n",
       "      <td>0-17</td>\n",
       "      <td>10</td>\n",
       "      <td>A</td>\n",
       "      <td>2</td>\n",
       "      <td>0</td>\n",
       "      <td>12</td>\n",
       "      <td>14.0</td>\n",
       "      <td>NaN</td>\n",
       "      <td>1057</td>\n",
       "    </tr>\n",
       "    <tr>\n",
       "      <th>4</th>\n",
       "      <td>1000002</td>\n",
       "      <td>P00285442</td>\n",
       "      <td>M</td>\n",
       "      <td>55+</td>\n",
       "      <td>16</td>\n",
       "      <td>C</td>\n",
       "      <td>4+</td>\n",
       "      <td>0</td>\n",
       "      <td>8</td>\n",
       "      <td>NaN</td>\n",
       "      <td>NaN</td>\n",
       "      <td>7969</td>\n",
       "    </tr>\n",
       "  </tbody>\n",
       "</table>\n",
       "</div>"
      ],
      "text/plain": [
       "   User_ID Product_ID Gender   Age  Occupation City_Category  \\\n",
       "0  1000001  P00069042      F  0-17          10             A   \n",
       "1  1000001  P00248942      F  0-17          10             A   \n",
       "2  1000001  P00087842      F  0-17          10             A   \n",
       "3  1000001  P00085442      F  0-17          10             A   \n",
       "4  1000002  P00285442      M   55+          16             C   \n",
       "\n",
       "  Stay_In_Current_City_Years  Marital_Status  Product_Category_1  \\\n",
       "0                          2               0                   3   \n",
       "1                          2               0                   1   \n",
       "2                          2               0                  12   \n",
       "3                          2               0                  12   \n",
       "4                         4+               0                   8   \n",
       "\n",
       "   Product_Category_2  Product_Category_3  Purchase  \n",
       "0                 NaN                 NaN      8370  \n",
       "1                 6.0                14.0     15200  \n",
       "2                 NaN                 NaN      1422  \n",
       "3                14.0                 NaN      1057  \n",
       "4                 NaN                 NaN      7969  "
      ]
     },
     "execution_count": 121,
     "metadata": {},
     "output_type": "execute_result"
    }
   ],
   "source": [
    "data.head()"
   ]
  },
  {
   "cell_type": "code",
   "execution_count": 122,
   "metadata": {},
   "outputs": [
    {
     "name": "stdout",
     "output_type": "stream",
     "text": [
      "<class 'pandas.core.frame.DataFrame'>\n",
      "RangeIndex: 537577 entries, 0 to 537576\n",
      "Data columns (total 12 columns):\n",
      "User_ID                       537577 non-null int64\n",
      "Product_ID                    537577 non-null object\n",
      "Gender                        537577 non-null object\n",
      "Age                           537577 non-null object\n",
      "Occupation                    537577 non-null int64\n",
      "City_Category                 537577 non-null object\n",
      "Stay_In_Current_City_Years    537577 non-null object\n",
      "Marital_Status                537577 non-null int64\n",
      "Product_Category_1            537577 non-null int64\n",
      "Product_Category_2            370591 non-null float64\n",
      "Product_Category_3            164278 non-null float64\n",
      "Purchase                      537577 non-null int64\n",
      "dtypes: float64(2), int64(5), object(5)\n",
      "memory usage: 49.2+ MB\n"
     ]
    }
   ],
   "source": [
    "data.info()"
   ]
  },
  {
   "cell_type": "code",
   "execution_count": 123,
   "metadata": {},
   "outputs": [
    {
     "data": {
      "text/plain": [
       "User_ID                       False\n",
       "Product_ID                    False\n",
       "Gender                        False\n",
       "Age                           False\n",
       "Occupation                    False\n",
       "City_Category                 False\n",
       "Stay_In_Current_City_Years    False\n",
       "Marital_Status                False\n",
       "Product_Category_1            False\n",
       "Product_Category_2             True\n",
       "Product_Category_3             True\n",
       "Purchase                      False\n",
       "dtype: bool"
      ]
     },
     "execution_count": 123,
     "metadata": {},
     "output_type": "execute_result"
    }
   ],
   "source": [
    "data.isna().any()"
   ]
  },
  {
   "cell_type": "code",
   "execution_count": 124,
   "metadata": {},
   "outputs": [
    {
     "name": "stdout",
     "output_type": "stream",
     "text": [
      "Product_Category_2 [nan  6. 14.  2.  8. 15. 16. 11.  5.  3.  4. 12.  9. 10. 17. 13.  7. 18.]\n"
     ]
    }
   ],
   "source": [
    "print('Product_Category_2', data['Product_Category_2'].unique())"
   ]
  },
  {
   "cell_type": "code",
   "execution_count": 125,
   "metadata": {},
   "outputs": [],
   "source": [
    "data.fillna(value=0,inplace=True)\n",
    "data[\"Product_Category_2\"] = data[\"Product_Category_2\"].astype(int)\n",
    "data[\"Product_Category_3\"] = data[\"Product_Category_3\"].astype(int)"
   ]
  },
  {
   "cell_type": "code",
   "execution_count": 126,
   "metadata": {},
   "outputs": [
    {
     "name": "stdout",
     "output_type": "stream",
     "text": [
      "Product_Category_1 [ 3  1 12  8  5  4  2  6 14 11 13 15  7 16 18 10 17  9]\n"
     ]
    }
   ],
   "source": [
    "print('Product_Category_1', data['Product_Category_1'].unique())"
   ]
  },
  {
   "cell_type": "code",
   "execution_count": 127,
   "metadata": {},
   "outputs": [],
   "source": [
    "data.drop(columns = [\"User_ID\",\"Product_ID\"],inplace=True)"
   ]
  },
  {
   "cell_type": "code",
   "execution_count": 128,
   "metadata": {},
   "outputs": [
    {
     "data": {
      "image/png": "[encoded data removed]",
      "text/plain": [
       "<Figure size 864x504 with 1 Axes>"
      ]
     },
     "metadata": {},
     "output_type": "display_data"
    }
   ],
   "source": [
    "explode = (0.1,0)  \n",
    "fig1, ax1 = plt.subplots(figsize=(12,7))\n",
    "ax1.pie(data['Gender'].value_counts(), explode=explode,labels=['Male','Female'], autopct='%1.1f%%',\n",
    "        shadow=True, startangle=90)\n",
    "\n",
    "ax1.axis('equal')  \n",
    "plt.tight_layout()\n",
    "plt.legend()\n",
    "plt.show()"
   ]
  },
  {
   "cell_type": "code",
   "execution_count": 129,
   "metadata": {},
   "outputs": [],
   "source": [
    "sortAgedata = data.reset_index().sort_values(by=['Age'])"
   ]
  },
  {
   "cell_type": "code",
   "execution_count": 130,
   "metadata": {},
   "outputs": [
    {
     "data": {
      "text/plain": [
       "<matplotlib.axes._subplots.AxesSubplot at 0x1c5b4255198>"
      ]
     },
     "execution_count": 130,
     "metadata": {},
     "output_type": "execute_result"
    },
    {
     "data": {
      "image/png": "[encoded data removed]",
      "text/plain": [
       "<Figure size 432x288 with 1 Axes>"
      ]
     },
     "metadata": {},
     "output_type": "display_data"
    }
   ],
   "source": [
    "sns.countplot(data['Age'])"
   ]
  },
  {
   "cell_type": "code",
   "execution_count": 131,
   "metadata": {},
   "outputs": [
    {
     "data": {
      "image/png": "[encoded data removed]",
      "text/plain": [
       "<Figure size 432x288 with 1 Axes>"
      ]
     },
     "metadata": {},
     "output_type": "display_data"
    }
   ],
   "source": [
    "\n",
    "\n",
    "ax = sns.barplot(data=sortAgedata,x=\"Age\",y=\"Purchase\",hue=\"Gender\")\n",
    "\n",
    "plt.axis(ymin=8000,ymax=10000)\n",
    "plt.show()"
   ]
  },
  {
   "cell_type": "code",
   "execution_count": 132,
   "metadata": {},
   "outputs": [
    {
     "name": "stdout",
     "output_type": "stream",
     "text": [
      "['F_0' 'M_0' 'M_1' 'F_1']\n"
     ]
    }
   ],
   "source": [
    "tempdata = data\n",
    "tempdata['Gender_Marital_Status'] = tempdata.apply(lambda x:'%s_%s' % (x['Gender'],x['Marital_Status']),axis=1)\n",
    "print(tempdata['Gender_Marital_Status'].unique())"
   ]
  },
  {
   "cell_type": "code",
   "execution_count": 133,
   "metadata": {},
   "outputs": [
    {
     "data": {
      "text/plain": [
       "<matplotlib.axes._subplots.AxesSubplot at 0x1c58e62ac18>"
      ]
     },
     "execution_count": 133,
     "metadata": {},
     "output_type": "execute_result"
    },
    {
     "data": {
      "image/png": "[encoded data removed]",
      "text/plain": [
       "<Figure size 432x288 with 1 Axes>"
      ]
     },
     "metadata": {},
     "output_type": "display_data"
    }
   ],
   "source": [
    "sns.countplot(data['Age'],hue=tempdata['Gender_Marital_Status'])"
   ]
  },
  {
   "cell_type": "code",
   "execution_count": 134,
   "metadata": {},
   "outputs": [
    {
     "data": {
      "text/plain": [
       "<matplotlib.axes._subplots.AxesSubplot at 0x1c5db2a4fd0>"
      ]
     },
     "execution_count": 134,
     "metadata": {},
     "output_type": "execute_result"
    },
    {
     "data": {
      "image/png": "[encoded data removed]",
      "text/plain": [
       "<Figure size 432x288 with 1 Axes>"
      ]
     },
     "metadata": {},
     "output_type": "display_data"
    }
   ],
   "source": [
    "sns.countplot(data['Product_Category_2'],hue=tempdata['Gender_Marital_Status'])"
   ]
  },
  {
   "cell_type": "code",
   "execution_count": 158,
   "metadata": {},
   "outputs": [],
   "source": [
    "newdata = pd.concat([data, \n",
    "                     pd.get_dummies(data['Gender'],prefix=\"Gender\"),\n",
    "                     pd.get_dummies(data['Age'],prefix=\"Age\"),\n",
    "                     pd.get_dummies(data['Occupation'],prefix=\"Occupation\"),\n",
    "                     pd.get_dummies(data['City_Category'],prefix=\"City_Category\"),\n",
    "                     pd.get_dummies(data['Stay_In_Current_City_Years'],prefix=\"Stay_In_Current_City_Years\"),\n",
    "                     pd.get_dummies(data['Marital_Status'],prefix=\"Marital_Status\"),\n",
    "                     pd.get_dummies(data['Product_Category_1'],prefix=\"Product_Category_1\"),\n",
    "                     pd.get_dummies(data['Product_Category_2'],prefix=\"Product_Category_2\"),\n",
    "                     pd.get_dummies(data['Product_Category_3'],prefix=\"Product_Category_3\")\n",
    "                    ],\n",
    "                   axis=1)"
   ]
  },
  {
   "cell_type": "code",
   "execution_count": 159,
   "metadata": {},
   "outputs": [],
   "source": [
    "newdata.drop(['Gender','Age','Occupation','Stay_In_Current_City_Years','Marital_Status','City_Category','Product_Category_1',\n",
    "            'Product_Category_2','Product_Category_3' ],\n",
    "            axis=1, inplace=True)"
   ]
  },
  {
   "cell_type": "code",
   "execution_count": 160,
   "metadata": {},
   "outputs": [],
   "source": [
    "newdata.drop(['Gender_Marital_Status'],\n",
    "            axis=1, inplace=True)"
   ]
  },
  {
   "cell_type": "code",
   "execution_count": 161,
   "metadata": {},
   "outputs": [
    {
     "data": {
      "text/plain": [
       "['Gender_F',\n",
       " 'Gender_M',\n",
       " 'Age_0-17',\n",
       " 'Age_18-25',\n",
       " 'Age_26-35',\n",
       " 'Age_36-45',\n",
       " 'Age_46-50',\n",
       " 'Age_51-55',\n",
       " 'Age_55+',\n",
       " 'Occupation_0',\n",
       " 'Occupation_1',\n",
       " 'Occupation_2',\n",
       " 'Occupation_3',\n",
       " 'Occupation_4',\n",
       " 'Occupation_5',\n",
       " 'Occupation_6',\n",
       " 'Occupation_7',\n",
       " 'Occupation_8',\n",
       " 'Occupation_9',\n",
       " 'Occupation_10',\n",
       " 'Occupation_11',\n",
       " 'Occupation_12',\n",
       " 'Occupation_13',\n",
       " 'Occupation_14',\n",
       " 'Occupation_15',\n",
       " 'Occupation_16',\n",
       " 'Occupation_17',\n",
       " 'Occupation_18',\n",
       " 'Occupation_19',\n",
       " 'Occupation_20',\n",
       " 'City_Category_A',\n",
       " 'City_Category_B',\n",
       " 'City_Category_C',\n",
       " 'Stay_In_Current_City_Years_0',\n",
       " 'Stay_In_Current_City_Years_1',\n",
       " 'Stay_In_Current_City_Years_2',\n",
       " 'Stay_In_Current_City_Years_3',\n",
       " 'Stay_In_Current_City_Years_4+',\n",
       " 'Marital_Status_0',\n",
       " 'Marital_Status_1',\n",
       " 'Product_Category_1_1',\n",
       " 'Product_Category_1_2',\n",
       " 'Product_Category_1_3',\n",
       " 'Product_Category_1_4',\n",
       " 'Product_Category_1_5',\n",
       " 'Product_Category_1_6',\n",
       " 'Product_Category_1_7',\n",
       " 'Product_Category_1_8',\n",
       " 'Product_Category_1_9',\n",
       " 'Product_Category_1_10',\n",
       " 'Product_Category_1_11',\n",
       " 'Product_Category_1_12',\n",
       " 'Product_Category_1_13',\n",
       " 'Product_Category_1_14',\n",
       " 'Product_Category_1_15',\n",
       " 'Product_Category_1_16',\n",
       " 'Product_Category_1_17',\n",
       " 'Product_Category_1_18',\n",
       " 'Product_Category_2_0',\n",
       " 'Product_Category_2_2',\n",
       " 'Product_Category_2_3',\n",
       " 'Product_Category_2_4',\n",
       " 'Product_Category_2_5',\n",
       " 'Product_Category_2_6',\n",
       " 'Product_Category_2_7',\n",
       " 'Product_Category_2_8',\n",
       " 'Product_Category_2_9',\n",
       " 'Product_Category_2_10',\n",
       " 'Product_Category_2_11',\n",
       " 'Product_Category_2_12',\n",
       " 'Product_Category_2_13',\n",
       " 'Product_Category_2_14',\n",
       " 'Product_Category_2_15',\n",
       " 'Product_Category_2_16',\n",
       " 'Product_Category_2_17',\n",
       " 'Product_Category_2_18',\n",
       " 'Product_Category_3_0',\n",
       " 'Product_Category_3_3',\n",
       " 'Product_Category_3_4',\n",
       " 'Product_Category_3_5',\n",
       " 'Product_Category_3_6',\n",
       " 'Product_Category_3_8',\n",
       " 'Product_Category_3_9',\n",
       " 'Product_Category_3_10',\n",
       " 'Product_Category_3_11',\n",
       " 'Product_Category_3_12',\n",
       " 'Product_Category_3_13',\n",
       " 'Product_Category_3_14',\n",
       " 'Product_Category_3_15',\n",
       " 'Product_Category_3_16',\n",
       " 'Product_Category_3_17',\n",
       " 'Product_Category_3_18']"
      ]
     },
     "execution_count": 161,
     "metadata": {},
     "output_type": "execute_result"
    }
   ],
   "source": [
    "independent_columns_names = newdata.columns.values\n",
    "independent_columns_names = [x for x in newdata if x!= 'Purchase']\n",
    "independent_columns_names"
   ]
  },
  {
   "cell_type": "code",
   "execution_count": 163,
   "metadata": {},
   "outputs": [],
   "source": [
    "X = newdata[independent_columns_names]\n",
    "y = newdata['Purchase']"
   ]
  },
  {
   "cell_type": "code",
   "execution_count": 215,
   "metadata": {},
   "outputs": [],
   "source": [
    "y = newdata['Purchase']\n",
    "\n",
    "X_train, X_holdout, y_train, y_holdout = train_test_split(newdata.drop('Purchase', axis=1), y, test_size=0.3,\n",
    "                                                         random_state=17)"
   ]
  },
  {
   "cell_type": "code",
   "execution_count": 217,
   "metadata": {},
   "outputs": [
    {
     "name": "stdout",
     "output_type": "stream",
     "text": [
      "Wall time: 1.32 s\n"
     ]
    }
   ],
   "source": [
    "%%time\n",
    "model1 = Ridge(alpha=1.0 , random_state = 1)\n",
    "model1.fit(X_train_scaled,y_train)"
   ]
  },
  {
   "cell_type": "code",
   "execution_count": 218,
   "metadata": {},
   "outputs": [
    {
     "name": "stdout",
     "output_type": "stream",
     "text": [
      "Ошибка на трейне 4153.8469126336095\n",
      "Ошибка на тесте 4147.778991800271\n",
      "Wall time: 371 ms\n"
     ]
    }
   ],
   "source": [
    "%%time\n",
    "from math import sqrt\n",
    "train_preds1 = model1.predict(X_train)\n",
    "valid_preds1 = model1.predict(X_holdout)\n",
    "\n",
    "print('Ошибка на трейне',sqrt(mean_squared_error(y_train, train_preds1)))\n",
    "print('Ошибка на тесте',sqrt(mean_squared_error(y_holdout, valid_preds1)))"
   ]
  },
  {
   "cell_type": "code",
   "execution_count": 219,
   "metadata": {},
   "outputs": [
    {
     "data": {
      "text/plain": [
       "LinearRegression(copy_X=True, fit_intercept=True, n_jobs=1, normalize=False)"
      ]
     },
     "execution_count": 219,
     "metadata": {},
     "output_type": "execute_result"
    }
   ],
   "source": [
    "linreg = LinearRegression()\n",
    "linreg.fit(X_train, y_train)"
   ]
  },
  {
   "cell_type": "code",
   "execution_count": 223,
   "metadata": {},
   "outputs": [
    {
     "name": "stdout",
     "output_type": "stream",
     "text": [
      "Mean squared error (train): 2990.355\n",
      "Mean squared error (test): 2996.577\n"
     ]
    }
   ],
   "source": [
    "print(\"Mean squared error (train): %.3f\" % sqrt(mean_squared_error(y_train, linreg.predict(X_train))))\n",
    "print(\"Mean squared error (test): %.3f\" % sqrt(mean_squared_error(y_holdout, linreg.predict(X_holdout))))"
   ]
  },
  {
   "cell_type": "code",
   "execution_count": 224,
   "metadata": {},
   "outputs": [
    {
     "name": "stdout",
     "output_type": "stream",
     "text": [
      "Wall time: 53 s\n"
     ]
    }
   ],
   "source": [
    "%%time\n",
    "forest = RandomForestRegressor(random_state=17)\n",
    "forest.fit(X_train, y_train)"
   ]
  },
  {
   "cell_type": "code",
   "execution_count": 226,
   "metadata": {},
   "outputs": [
    {
     "name": "stdout",
     "output_type": "stream",
     "text": [
      "Mean squared error (train): 2312.765\n",
      "Mean squared error (test): 3092.443\n"
     ]
    }
   ],
   "source": [
    "print(\"Mean squared error (train): %.3f\" % sqrt(mean_squared_error(y_train, forest.predict(X_train))))\n",
    "print(\"Mean squared error (test): %.3f\" % sqrt(mean_squared_error(y_holdout, forest.predict(X_holdout))))\n"
   ]
  },
  {
   "cell_type": "code",
   "execution_count": 229,
   "metadata": {},
   "outputs": [
    {
     "name": "stdout",
     "output_type": "stream",
     "text": [
      "Fitting 5 folds for each of 630 candidates, totalling 3150 fits\n"
     ]
    },
    {
     "name": "stderr",
     "output_type": "stream",
     "text": [
      "[Parallel(n_jobs=-1)]: Done  34 tasks      | elapsed:   48.3s\n",
      "[Parallel(n_jobs=-1)]: Done 184 tasks      | elapsed:  3.7min\n",
      "[Parallel(n_jobs=-1)]: Done 434 tasks      | elapsed:  8.9min\n",
      "[Parallel(n_jobs=-1)]: Done 784 tasks      | elapsed: 17.2min\n",
      "[Parallel(n_jobs=-1)]: Done 1234 tasks      | elapsed: 28.9min\n",
      "[Parallel(n_jobs=-1)]: Done 1784 tasks      | elapsed: 42.8min\n",
      "[Parallel(n_jobs=-1)]: Done 2434 tasks      | elapsed: 554.1min\n",
      "[Parallel(n_jobs=-1)]: Done 3150 out of 3150 | elapsed: 576.2min finished\n"
     ]
    },
    {
     "name": "stdout",
     "output_type": "stream",
     "text": [
      "Wall time: 9h 36min 21s\n"
     ]
    }
   ],
   "source": [
    "%%time\n",
    "forest_params = {'max_depth': list(range(10, 25)), \n",
    "                 'min_samples_leaf': list(range(1, 8)),\n",
    "                 'max_features': list(range(6,12))}\n",
    "\n",
    "locally_best_forest = GridSearchCV(forest, forest_params,cv=5, n_jobs=-1, verbose=True)\n",
    "locally_best_forest.fit(X_train, y_train)"
   ]
  },
  {
   "cell_type": "code",
   "execution_count": 232,
   "metadata": {},
   "outputs": [
    {
     "name": "stdout",
     "output_type": "stream",
     "text": [
      "Best params: {'max_depth': 24, 'max_features': 11, 'min_samples_leaf': 2}\n",
      "Best cross validaton score 0.654729816448477\n"
     ]
    }
   ],
   "source": [
    "print(\"Best params:\", locally_best_forest.best_params_)\n",
    "print(\"Best cross validaton score\", locally_best_forest.best_score_)"
   ]
  },
  {
   "cell_type": "code",
   "execution_count": 263,
   "metadata": {},
   "outputs": [],
   "source": [
    "y_pred = locally_best_forest.predict(X_train)"
   ]
  },
  {
   "cell_type": "code",
   "execution_count": 270,
   "metadata": {},
   "outputs": [
    {
     "name": "stdout",
     "output_type": "stream",
     "text": [
      "Ошибка на трейне 2770.329310303065\n",
      "Ошибка на тесте 2919.8573345735954\n",
      "Wall time: 2.25 s\n"
     ]
    }
   ],
   "source": [
    "%%time\n",
    "from math import sqrt\n",
    "\n",
    "train_y_pred = locally_best_forest.predict(X_train)\n",
    "valid_y_pred = locally_best_forest.predict(X_holdout)\n",
    "\n",
    "\n",
    "print('Ошибка на трейне',sqrt(mean_squared_error(y_train, train_y_pred)))\n",
    "print('Ошибка на тесте',sqrt(mean_squared_error(y_holdout, valid_y_pred)))"
   ]
  },
  {
   "cell_type": "code",
   "execution_count": 272,
   "metadata": {},
   "outputs": [
    {
     "name": "stdout",
     "output_type": "stream",
     "text": [
      "Wall time: 1.25 s\n"
     ]
    }
   ],
   "source": [
    "%%time\n",
    "model1 = Ridge(alpha=1.0 , random_state = 1)\n",
    "model1.fit(X_train,y_train)"
   ]
  },
  {
   "cell_type": "code",
   "execution_count": 273,
   "metadata": {},
   "outputs": [
    {
     "name": "stdout",
     "output_type": "stream",
     "text": [
      "Ошибка на трейне 2990.3329496772894\n",
      "Ошибка на тесте 2996.5401408309085\n",
      "Wall time: 343 ms\n"
     ]
    }
   ],
   "source": [
    "%%time\n",
    "train_preds1 = model1.predict(X_train)\n",
    "valid_preds1 = model1.predict(X_holdout)\n",
    "\n",
    "\n",
    "\n",
    "print('Ошибка на трейне',sqrt(mean_squared_error(y_train, train_preds1)))\n",
    "print('Ошибка на тесте',sqrt(mean_squared_error(y_holdout, valid_preds1)))"
   ]
  },
  {
   "cell_type": "code",
   "execution_count": 274,
   "metadata": {},
   "outputs": [],
   "source": [
    "ddd = pd.DataFrame({'index':y_holdout.index, 'values1':y_holdout.values, 'valid_preds1':valid_y_pred})"
   ]
  },
  {
   "cell_type": "code",
   "execution_count": 276,
   "metadata": {},
   "outputs": [
    {
     "data": {
      "text/html": [
       "<div>\n",
       "<style scoped>\n",
       "    .dataframe tbody tr th:only-of-type {\n",
       "        vertical-align: middle;\n",
       "    }\n",
       "\n",
       "    .dataframe tbody tr th {\n",
       "        vertical-align: top;\n",
       "    }\n",
       "\n",
       "    .dataframe thead th {\n",
       "        text-align: right;\n",
       "    }\n",
       "</style>\n",
       "<table border=\"1\" class=\"dataframe\">\n",
       "  <thead>\n",
       "    <tr style=\"text-align: right;\">\n",
       "      <th></th>\n",
       "      <th>index</th>\n",
       "      <th>values1</th>\n",
       "      <th>valid_preds1</th>\n",
       "    </tr>\n",
       "  </thead>\n",
       "  <tbody>\n",
       "    <tr>\n",
       "      <th>0</th>\n",
       "      <td>520061</td>\n",
       "      <td>2861</td>\n",
       "      <td>4225.680856</td>\n",
       "    </tr>\n",
       "    <tr>\n",
       "      <th>1</th>\n",
       "      <td>168589</td>\n",
       "      <td>8400</td>\n",
       "      <td>14084.121350</td>\n",
       "    </tr>\n",
       "    <tr>\n",
       "      <th>2</th>\n",
       "      <td>505010</td>\n",
       "      <td>23728</td>\n",
       "      <td>21448.803129</td>\n",
       "    </tr>\n",
       "    <tr>\n",
       "      <th>3</th>\n",
       "      <td>183776</td>\n",
       "      <td>7784</td>\n",
       "      <td>7283.101930</td>\n",
       "    </tr>\n",
       "    <tr>\n",
       "      <th>4</th>\n",
       "      <td>345382</td>\n",
       "      <td>15193</td>\n",
       "      <td>14844.534876</td>\n",
       "    </tr>\n",
       "    <tr>\n",
       "      <th>5</th>\n",
       "      <td>468482</td>\n",
       "      <td>11588</td>\n",
       "      <td>13685.418441</td>\n",
       "    </tr>\n",
       "    <tr>\n",
       "      <th>6</th>\n",
       "      <td>499691</td>\n",
       "      <td>7837</td>\n",
       "      <td>7162.575179</td>\n",
       "    </tr>\n",
       "    <tr>\n",
       "      <th>7</th>\n",
       "      <td>342642</td>\n",
       "      <td>11387</td>\n",
       "      <td>13016.341058</td>\n",
       "    </tr>\n",
       "    <tr>\n",
       "      <th>8</th>\n",
       "      <td>205726</td>\n",
       "      <td>5888</td>\n",
       "      <td>7416.699607</td>\n",
       "    </tr>\n",
       "    <tr>\n",
       "      <th>9</th>\n",
       "      <td>359609</td>\n",
       "      <td>5424</td>\n",
       "      <td>5043.222180</td>\n",
       "    </tr>\n",
       "    <tr>\n",
       "      <th>10</th>\n",
       "      <td>135450</td>\n",
       "      <td>20511</td>\n",
       "      <td>16922.309571</td>\n",
       "    </tr>\n",
       "    <tr>\n",
       "      <th>11</th>\n",
       "      <td>73312</td>\n",
       "      <td>10834</td>\n",
       "      <td>9385.121416</td>\n",
       "    </tr>\n",
       "    <tr>\n",
       "      <th>12</th>\n",
       "      <td>433809</td>\n",
       "      <td>3150</td>\n",
       "      <td>4425.055484</td>\n",
       "    </tr>\n",
       "    <tr>\n",
       "      <th>13</th>\n",
       "      <td>28908</td>\n",
       "      <td>16031</td>\n",
       "      <td>11515.116123</td>\n",
       "    </tr>\n",
       "    <tr>\n",
       "      <th>14</th>\n",
       "      <td>447827</td>\n",
       "      <td>10982</td>\n",
       "      <td>10301.825997</td>\n",
       "    </tr>\n",
       "    <tr>\n",
       "      <th>15</th>\n",
       "      <td>249030</td>\n",
       "      <td>7805</td>\n",
       "      <td>7468.207820</td>\n",
       "    </tr>\n",
       "    <tr>\n",
       "      <th>16</th>\n",
       "      <td>285919</td>\n",
       "      <td>15976</td>\n",
       "      <td>13656.362515</td>\n",
       "    </tr>\n",
       "    <tr>\n",
       "      <th>17</th>\n",
       "      <td>273037</td>\n",
       "      <td>19096</td>\n",
       "      <td>12228.245260</td>\n",
       "    </tr>\n",
       "    <tr>\n",
       "      <th>18</th>\n",
       "      <td>184987</td>\n",
       "      <td>8005</td>\n",
       "      <td>7189.386884</td>\n",
       "    </tr>\n",
       "    <tr>\n",
       "      <th>19</th>\n",
       "      <td>382617</td>\n",
       "      <td>15838</td>\n",
       "      <td>15169.421620</td>\n",
       "    </tr>\n",
       "  </tbody>\n",
       "</table>\n",
       "</div>"
      ],
      "text/plain": [
       "     index  values1  valid_preds1\n",
       "0   520061     2861   4225.680856\n",
       "1   168589     8400  14084.121350\n",
       "2   505010    23728  21448.803129\n",
       "3   183776     7784   7283.101930\n",
       "4   345382    15193  14844.534876\n",
       "5   468482    11588  13685.418441\n",
       "6   499691     7837   7162.575179\n",
       "7   342642    11387  13016.341058\n",
       "8   205726     5888   7416.699607\n",
       "9   359609     5424   5043.222180\n",
       "10  135450    20511  16922.309571\n",
       "11   73312    10834   9385.121416\n",
       "12  433809     3150   4425.055484\n",
       "13   28908    16031  11515.116123\n",
       "14  447827    10982  10301.825997\n",
       "15  249030     7805   7468.207820\n",
       "16  285919    15976  13656.362515\n",
       "17  273037    19096  12228.245260\n",
       "18  184987     8005   7189.386884\n",
       "19  382617    15838  15169.421620"
      ]
     },
     "execution_count": 276,
     "metadata": {},
     "output_type": "execute_result"
    }
   ],
   "source": [
    "ddd.head(20)"
   ]
  },
  {
   "cell_type": "code",
   "execution_count": null,
   "metadata": {},
   "outputs": [],
   "source": []
  }
 ],
 "metadata": {
  "kernelspec": {
   "display_name": "Python 3",
   "language": "python",
   "name": "python3"
  },
  "language_info": {
   "codemirror_mode": {
    "name": "ipython",
    "version": 3
   },
   "file_extension": ".py",
   "mimetype": "text/x-python",
   "name": "python",
   "nbconvert_exporter": "python",
   "pygments_lexer": "ipython3",
   "version": "3.6.5"
  }
 },
 "nbformat": 4,
 "nbformat_minor": 2
}
